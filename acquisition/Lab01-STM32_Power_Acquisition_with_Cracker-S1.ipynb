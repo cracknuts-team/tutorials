{
 "cells": [
  {
   "cell_type": "markdown",
   "id": "c422ed66",
   "metadata": {},
   "source": [
    "# STM32功耗采集实验"
   ]
  },
  {
   "cell_type": "markdown",
   "id": "4076b662",
   "metadata": {},
   "source": [
    "本实验用于演示如何利用`Cracker-S1`采集`Nut_stm32f103c8`软件密码算法的功耗曲线。"
   ]
  },
  {
   "cell_type": "markdown",
   "id": "e880b5cd",
   "metadata": {},
   "source": [
    "## 准备工作\n",
    "\n",
    "### 硬件准备\n",
    "1. `Cracker-S1`功耗采集设备；\n",
    "2. `Nut_stm32f103c8`测试对象；\n",
    "3. POE交换机或12V适配器；\n",
    "4. PC；\n",
    "5. RJ45网线。\n",
    "\n",
    "### 软件准备\n",
    "1. PC安装最新版的[`CrackNuts`](https://cracknuts.cn/docs/doc/getting-started/host_sdk_installation)软件包；\n",
    "2. PC安装[STM32 ST-LINK utility](https://www.st.com/en/development-tools/stsw-link004.html#get-software)固件下载程序。\n",
    "\n",
    "### 固件烧写\n",
    "1. 烧写合适的Golden固件到`Nut_stm32f103c8`\n",
    "\n",
    "**注意：可根据需要下载不同类型的Golden固件，对比分析不同配置下的功耗差异。**\n",
    "\n",
    "### 连接\n",
    "1. 将烧写好固件的`Nut_stm32f103c8`插入`Cracker-S1`的`Nut Socket`接口；\n",
    "2. 通过POE或适配器给`Cracker-S1`供电，上电后`Cracker-S1`显示IP地址;\n",
    "3. 确保PC能够Ping通`Cracker-S1`的IP地址。\n"
   ]
  },
  {
   "cell_type": "markdown",
   "id": "3cf12ccd-e81c-4144-aeaf-94b5c28531cb",
   "metadata": {},
   "source": [
    "## 功耗采集"
   ]
  },
  {
   "cell_type": "markdown",
   "id": "222fe2cd",
   "metadata": {},
   "source": [
    "### 配置算法工作模式\n",
    "可通过更改算法类型`alg_type`、接口类型`intf_type`和数据生成方式`data_gen`决定采集功耗曲线模式。"
   ]
  },
  {
   "cell_type": "code",
   "execution_count": null,
   "id": "db4347cb-a992-484d-8b5a-dc5212da0621",
   "metadata": {},
   "outputs": [],
   "source": [
    "# 配置STM32运行密码算法类型、通信接口类型和数据生成类型\n",
    "from enum import Enum\n",
    "\n",
    "class AlgType(Enum):  # Algrithom type\n",
    "    AES_ENC = 1\n",
    "    AES_DEC = 2\n",
    "    DES_ENC = 3\n",
    "    DES_DEC = 4\n",
    "\n",
    "class IntfType(Enum):  # interface type\n",
    "    UART = 1\n",
    "    SPI = 2\n",
    "    I2C = 3\n",
    "    # CAN = 4 # not support\n",
    "\n",
    "class DataGenType(Enum):  # data type\n",
    "    FIX = 1\n",
    "    RANDOM = 2\n",
    "\n",
    "# Algorithm\n",
    "alg_type = AlgType.AES_ENC\n",
    "\n",
    "# interface\n",
    "intf_type = IntfType.UART\n",
    "\n",
    "# data\n",
    "data_gen = DataGenType.RANDOM"
   ]
  },
  {
   "cell_type": "markdown",
   "id": "9c98284b-c08a-425d-b0a6-0aa0a5c047c7",
   "metadata": {},
   "source": [
    "### Nut 命令"
   ]
  },
  {
   "cell_type": "code",
   "execution_count": null,
   "id": "d4d89e4a-8c12-4fc4-bc11-29b2580d5c1d",
   "metadata": {},
   "outputs": [],
   "source": [
    "# AES Command\n",
    "cmd_set_aes_enc_key = \"01 00 00 00 00 00 00 10\"\n",
    "cmd_set_aes_dec_key = \"01 01 00 00 00 00 00 10\"\n",
    "cmd_aes_enc = \"01 02 00 00 00 00 00 10\"\n",
    "cmd_aes_dec = \"01 03 00 00 00 00 00 10\"\n",
    "aes_key = \"11 22 33 44 55 66 77 88 99 00 aa bb cc dd ee ff\"\n",
    "aes_data_len = 16\n",
    "\n",
    "# DES Command\n",
    "cmd_set_des_enc_key = \"02 00 00 00 00 00 00 08\"\n",
    "cmd_set_des_dec_key = \"02 01 00 00 00 00 00 08\"\n",
    "cmd_des_enc = \"02 02 00 00 00 00 00 08\"\n",
    "cmd_des_dec = \"02 03 00 00 00 00 00 08\"\n",
    "des_key = \"12 34 56 78 90 ab cd ef\"\n",
    "des_data_len = 8"
   ]
  },
  {
   "cell_type": "markdown",
   "id": "240cdaa3",
   "metadata": {},
   "source": [
    "### 连接设备\n",
    "下面的代码引入依赖包，并连接设备，需确保PC与Cracker-S1处于同一局域网内。"
   ]
  },
  {
   "cell_type": "code",
   "execution_count": null,
   "id": "e40ea2b2-1480-45d5-a3cb-2637f39a42ca",
   "metadata": {},
   "outputs": [],
   "source": [
    "# 导入依赖包\n",
    "import cracknuts as cn  # 导入cracknuts包\n",
    "from cracknuts.cracker import serial  # 串行协议参数\n",
    "from cracknuts.cracker.cracker_s1 import CrackerS1  # 导入Cracker-S1包\n",
    "\n",
    "# 连接Cracker-S1\n",
    "s1 = CrackerS1(address='192.168.0.211')  # 具体IP地址请根据Cracker-S1显示屏实际情况更改\n",
    "s1.connect()  # 连接Cracker-S1"
   ]
  },
  {
   "cell_type": "markdown",
   "id": "0431f0d9-3d35-4bfa-9675-3f3863e335e0",
   "metadata": {},
   "source": [
    "### 采集流程功能函数\n",
    "代码中`init()`函数在采集流程开始时会执行1次，`do()`函数在采集流程中会执行多次。"
   ]
  },
  {
   "cell_type": "code",
   "execution_count": null,
   "id": "a9c2fe57-c72c-4742-b57b-c90147fff9b9",
   "metadata": {},
   "outputs": [],
   "source": [
    "import random  # for random data\n",
    "import time  # for time.sleep\n",
    "\n",
    "data_len = aes_data_len if alg_type in [AlgType.AES_ENC, AlgType.AES_DEC] else des_data_len  # data length\n",
    "\n",
    "# init() function run only once during the acquisition process.\n",
    "def init(c):\n",
    "\n",
    "    # set some default config by code, you can also set them in PANEL.\n",
    "    s1.nut_voltage(3.3)\n",
    "    s1.nut_voltage_enable()\n",
    "    s1.osc_sample_length(20480)\n",
    "\n",
    "    if intf_type is IntfType.UART:  # uart interface\n",
    "        # enable uart interface\n",
    "        status, ret = s1.uart_enable()\n",
    "        assert (status == 0) & (ret is None), \"uart enable failed\"\n",
    "        # config uart interface\n",
    "        status, ret = s1.uart_config(baudrate=serial.Baudrate.BAUDRATE_115200, \n",
    "                                     parity=serial.Parity.PARITY_NONE,\n",
    "                                     stopbits=serial.Stopbits.STOPBITS_ONE, \n",
    "                                     bytesize=serial.Bytesize.EIGHTBITS)\n",
    "        assert (status == 0) & (ret is None), \"uart config failed\"\n",
    "    elif intf_type is IntfType.SPI:  # spi interface\n",
    "        # enable spi interface\n",
    "        s1.spi_enable()\n",
    "        assert (status == 0) & (ret is None), \"spi enable failed\"\n",
    "        # config spi interface\n",
    "        s1.spi_config(speed=serial.Baudrate.BAUDRATE_115200, \n",
    "                      cpol=serial.SpiCpol.SPI_CPOL_LOW, \n",
    "                      cpha=serial.SpiCpha.SPI_CPHA_LOW)\n",
    "        assert (status == 0) & (ret is None), \"spi config failed\"\n",
    "\n",
    "    # combine set key command\n",
    "    if alg_type is AlgType.AES_ENC:\n",
    "        cmd = cmd_set_aes_enc_key + aes_key\n",
    "    elif alg_type is AlgType.AES_DEC:\n",
    "        cmd = cmd_set_aes_dec_key + aes_key\n",
    "    elif alg_type is AlgType.DES_ENC:\n",
    "        cmd = cmd_set_des_enc_key + des_key\n",
    "    else:\n",
    "        cmd = cmd_set_des_dec_key + des_key\n",
    "\n",
    "    # send set key command \n",
    "    if intf_type is IntfType.UART:  # uart interface\n",
    "        status, ret = s1.uart_transmit_receive(cmd, timeout=1000, rx_count=6, is_trigger=False)\n",
    "        assert (status == 0) & (ret == b'\\x00\\x00\\x00\\x00\\x00\\x00'), \"Set key failed\"\n",
    "    elif intf_type is IntfType.SPI:  # spi interface\n",
    "        status, ret = s1.spi_transmit(tx_data=cmd_set_aes_enc_key, is_trigger=False)\n",
    "        status, ret = s1.spi_transmit(tx_data=aes_key, is_trigger=False)\n",
    "        # time.sleep(0.5)\n",
    "        status, ret = s1.spi_receive(rx_count=6)\n",
    "\n",
    "# do t() function run multiple times during the acquisition process.\n",
    "def do(c):\n",
    "    # command selection\n",
    "    if alg_type is AlgType.AES_ENC:\n",
    "        cmd = cmd_aes_enc        \n",
    "    elif alg_type is AlgType.AES_DEC:\n",
    "        cmd = cmd_aes_dec\n",
    "    elif alg_type is AlgType.DES_ENC:\n",
    "        cmd = cmd_des_enc        \n",
    "    else:\n",
    "        cmd = cmd_des_dec\n",
    "\n",
    "    # combine command and data    \n",
    "    if data_gen == DataGenType.FIX: # fix data\n",
    "        data = bytes(data_len)\n",
    "    else:  # random data        \n",
    "        data = random.randbytes(data_len)   \n",
    "    command = bytes.fromhex(cmd) + data  # combine command and data\n",
    "\n",
    "    # send command and data\n",
    "    if intf_type is IntfType.UART:\n",
    "        status, ret = s1.uart_transmit_receive(command, rx_count= 6 + data_len, is_trigger=True)\n",
    "        assert (status == 0) & (len(ret) == 6 + data_len), \"Uart transmition failed\"\n",
    "    elif intf_type is IntfType.SPI:\n",
    "        status, ret = s1.spi_transmit(tx_data=cmd, is_trigger=False)  # no trigger\n",
    "        assert (status == 0) & (ret is None), \"SPI command header transmit failed\"\n",
    "        status, ret = s1.spi_transmit(tx_data=data, is_trigger=True)  # triggered transmit\n",
    "        assert (status == 0) & (ret is None), \"SPI data transmit failed\"\n",
    "        time.sleep(0.2)  # wait for Nut finish computation\n",
    "        status, ret = s1.spi_receive(rx_count=6 + data_len, is_trigger=False)\n",
    "        assert (status == 0) & (len(ret) == 6 + data_len), \"SPI data receive failed\"\n",
    "    \n",
    "    return data + ret[-data_len:]\n",
    "\n",
    "# init(None) # uncomment for init() debug\n",
    "# do(None) # uncomment for do() debug\n",
    "\n",
    "saveDataLength = 2 * data_len"
   ]
  },
  {
   "cell_type": "markdown",
   "id": "5e19f9e1-ff02-451b-9646-0eacae822f28",
   "metadata": {},
   "source": [
    "## 图形界面方式采集\n",
    "\n",
    "需要注意的是，如果上面代码的init函数中没有配置nut使能和nut电压，需要在下面的面板中进行使能和电压配置"
   ]
  },
  {
   "cell_type": "code",
   "execution_count": null,
   "id": "b2ec4024-88f3-4d14-897f-6e3980eafffe",
   "metadata": {},
   "outputs": [],
   "source": [
    "acq = cn.new_acquisition(s1, do=do, init= init, data_length=saveDataLength)\n",
    "cn.panel(acq)"
   ]
  },
  {
   "cell_type": "markdown",
   "id": "420deb4f",
   "metadata": {},
   "source": [
    "## 命令行方式采集"
   ]
  },
  {
   "cell_type": "markdown",
   "id": "c69cd5c7",
   "metadata": {},
   "source": [
    "设置波形采集功能参数"
   ]
  },
  {
   "cell_type": "code",
   "execution_count": null,
   "id": "28c616a9",
   "metadata": {},
   "outputs": [],
   "source": [
    "status, ret = s1.osc_sample_clock('48M')\n",
    "assert (status == 0) & (ret is None), \"Error setting sample clock\"\n",
    "status, ret = s1.osc_sample_clock_phase(0)\n",
    "assert (status == 0) & (ret is None), \"Error setting sample clock phase\"\n",
    "\n",
    "status, ret = s1.osc_analog_enable('B')\n",
    "assert (status == 0) & (ret is None), \"Error enabling analog channel B\"\n",
    "status, ret = s1.osc_analog_gain('B', 40)\n",
    "assert (status == 0) & (ret is None), \"Error setting analog channel B gain\"\n",
    "\n",
    "status, ret = s1.osc_sample_length(1024 * 15)\n",
    "assert (status == 0) & (ret is None), \"Error setting sample length\"\n",
    "status, ret = s1.osc_sample_delay(0)\n",
    "assert (status == 0) & (ret is None), \"Error setting sample delay\"\n",
    "\n",
    "status, ret = s1.osc_trigger_mode('EDGE')\n",
    "assert (status == 0) & (ret is None), \"Error setting trigger mode\"\n",
    "status, ret = s1.osc_trigger_source('Nut')\n",
    "assert (status == 0) & (ret is None), \"Error setting trigger source\"\n",
    "status, ret = s1.osc_trigger_edge('up')\n",
    "assert (status == 0) & (ret is None), \"Error setting trigger edge\"\n",
    "status, ret = s1.osc_trigger_level(0) # Not useful for Nut trigger source\n",
    "assert (status == 0) & (ret is None), \"Error setting trigger level\""
   ]
  },
  {
   "cell_type": "markdown",
   "id": "5820c0ae",
   "metadata": {},
   "source": [
    "通信接口使能"
   ]
  },
  {
   "cell_type": "code",
   "execution_count": null,
   "id": "c8a8b973",
   "metadata": {},
   "outputs": [],
   "source": [
    "status, ret = s1.uart_enable()\n",
    "assert status == 0\n",
    "status, ret = s1.uart_config(baudrate=serial.Baudrate.BAUDRATE_115200, \n",
    "                             parity=serial.Parity.PARITY_NONE,\n",
    "                             stopbits=serial.Stopbits.STOPBITS_ONE, \n",
    "                             bytesize=serial.Bytesize.EIGHTBITS)\n",
    "assert status == 0\n",
    "status, ret = s1.uart_receive_fifo_remained()\n",
    "assert status == 0\n",
    "status, ret = s1.nut_voltage_enable()\n",
    "assert (status == 0) & (ret is None), \"nut voltage enable failed\""
   ]
  },
  {
   "cell_type": "markdown",
   "id": "514fc911",
   "metadata": {},
   "source": [
    "设置密钥"
   ]
  },
  {
   "cell_type": "code",
   "execution_count": null,
   "id": "c4126335",
   "metadata": {},
   "outputs": [],
   "source": [
    "status, ret = s1.uart_transmit_receive(cmd_set_aes_enc_key + aes_key, timeout=1000, rx_count=6)\n",
    "assert status == 0, \"Set AES encryption key failed\"\n",
    "assert ret == b'\\x00\\x00\\x00\\x00\\x00\\x00', \"Set AES encryption key failed\"\n",
    "print(ret)"
   ]
  },
  {
   "cell_type": "code",
   "execution_count": null,
   "id": "8804ae2a",
   "metadata": {},
   "outputs": [],
   "source": [
    "status, ret = s1.osc_single()\n",
    "assert (status == 0) & (ret is None), \"Single mode failed!\"\n",
    "\n",
    "status, ret = s1.uart_transmit_receive(cmd_aes_enc + aes_key, timeout=1000, rx_count=6+ aes_data_len, is_trigger=True)\n",
    "assert (status == 0) & (len(ret) == 6+ aes_data_len), \"AES Encription command transfer failed!\"\n"
   ]
  },
  {
   "cell_type": "code",
   "execution_count": null,
   "id": "345bf621",
   "metadata": {},
   "outputs": [],
   "source": [
    "status, ret = s1.osc_is_triggered()\n",
    "assert (status == 0) & (ret is True), f\"Trigger error: status={status}, ret={ret}\""
   ]
  },
  {
   "cell_type": "code",
   "execution_count": null,
   "id": "ed80019f",
   "metadata": {},
   "outputs": [],
   "source": [
    "status, ret = s1.osc_get_analog_wave(1, 0, 1024*15)"
   ]
  },
  {
   "cell_type": "code",
   "execution_count": null,
   "id": "df7c0c58",
   "metadata": {},
   "outputs": [],
   "source": [
    "pt = cn.panel_trace()\n",
    "pt"
   ]
  },
  {
   "cell_type": "markdown",
   "id": "fdfa7c1b",
   "metadata": {},
   "source": [
    "todo： 显示单条曲线"
   ]
  },
  {
   "cell_type": "code",
   "execution_count": null,
   "id": "0197c845",
   "metadata": {},
   "outputs": [],
   "source": [
    "pt.set_numpy_data(ret)"
   ]
  },
  {
   "cell_type": "code",
   "execution_count": null,
   "id": "1a056900",
   "metadata": {},
   "outputs": [],
   "source": [
    "import matplotlib.pyplot as plt\n",
    "\n",
    "waveform_data = ret\n",
    "\n",
    "plt.figure(figsize=(20, 6))\n",
    "plt.plot(waveform_data)\n",
    "plt.title('Analog Waveform')\n",
    "plt.xlabel('Sample Index')\n",
    "plt.ylabel('Amplitude')\n",
    "plt.grid(True)\n",
    "plt.show()"
   ]
  },
  {
   "cell_type": "markdown",
   "id": "26b18749",
   "metadata": {},
   "source": [
    "todo， 循环采集，保存，查看波形"
   ]
  },
  {
   "cell_type": "code",
   "execution_count": null,
   "id": "7f032239",
   "metadata": {},
   "outputs": [],
   "source": [
    "# You can perform trace acquisition without the Panel using the code below. This is a synchronous function, and it will block the cell until the acquisition is finished.\n",
    "acq.run_sync(count=1000, sample_length=20480)\n",
    "# Then you will find the trace dataset file in the `./dataset` folder, with a name like 20250411102913.zarr."
   ]
  },
  {
   "cell_type": "code",
   "execution_count": null,
   "id": "24cad937",
   "metadata": {},
   "outputs": [],
   "source": [
    "# now, load the dataset file and do some analysis\n",
    "\n",
    "from cracknuts.trace.trace import ScarrTraceDataset\n",
    "\n",
    "ds = ScarrTraceDataset.load(r'.\\dataset\\20250411102913.zarr')\n",
    "\n",
    "# print dataset info\n",
    "ds.info()  # show dataset info"
   ]
  },
  {
   "cell_type": "code",
   "execution_count": null,
   "id": "250b6cd4",
   "metadata": {},
   "outputs": [],
   "source": [
    "# And, you can get the original data from the dataset. This is a Zarr dataset similar to NumPy, since ds is an instance of ScarrTraceDataset.\n",
    "ods = ds.get_origin_data()  \n",
    "\n",
    "ods.info"
   ]
  },
  {
   "cell_type": "code",
   "execution_count": null,
   "id": "62c8ed1a",
   "metadata": {},
   "outputs": [],
   "source": [
    "# Print the dataset structure.\n",
    "ods.tree()"
   ]
  },
  {
   "cell_type": "code",
   "execution_count": null,
   "id": "78dd4aa8",
   "metadata": {},
   "outputs": [],
   "source": [
    "# Get all trace of channel 0\n",
    "\n",
    "traces = ds.trace[0,:] # the first argument of the slice is the channel index\n",
    "\n",
    "print(type(traces))\n",
    "traces.shape"
   ]
  },
  {
   "cell_type": "code",
   "execution_count": null,
   "id": "45b70f2f",
   "metadata": {},
   "outputs": [],
   "source": [
    "# now, you can show the trace wavefor with TracePanel\n",
    "from cracknuts.jupyter import TracePanelWidget\n",
    "\n",
    "tp: TracePanelWidget = cn.panel_trace()\n",
    "tp.set_trace_dataset(ds)\n",
    "tp # By default the TracePanel will show the first three traces.\n"
   ]
  },
  {
   "cell_type": "code",
   "execution_count": null,
   "id": "55ffea10",
   "metadata": {},
   "outputs": [],
   "source": [
    "# Change the indices of the traces displayed in the TracePanel.\n",
    "\n",
    "# tp.show_trace[0, [1,2,6]] # show 1, 2, 6, of channel index 0\n",
    "\n",
    "# tp.show_trace[0, :10] # show fires ten of channel index 0\n",
    "\n",
    "tp.show_trace[0, 10:20] # Show traces from the 10th to the 20th of channel index 0"
   ]
  }
 ],
 "metadata": {
  "kernelspec": {
   "display_name": "cracknuts",
   "language": "python",
   "name": "python3"
  },
  "language_info": {
   "codemirror_mode": {
    "name": "ipython",
    "version": 3
   },
   "file_extension": ".py",
   "mimetype": "text/x-python",
   "name": "python",
   "nbconvert_exporter": "python",
   "pygments_lexer": "ipython3",
   "version": "3.12.8"
  }
 },
 "nbformat": 4,
 "nbformat_minor": 5
}
